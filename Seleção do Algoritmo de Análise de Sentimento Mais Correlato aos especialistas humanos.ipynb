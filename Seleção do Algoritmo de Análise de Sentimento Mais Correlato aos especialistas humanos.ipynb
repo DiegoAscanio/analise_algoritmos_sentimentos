{
 "cells": [
  {
   "cell_type": "markdown",
   "id": "0fa63e66",
   "metadata": {},
   "source": [
    "# 0. Seleção de estratégia de discretização dos *scores* de sentimentos dos comitês de especialistas para comparação com demais algoritmos.\n",
    "\n",
    "Ao analisar os sentimentos dos algoritmos, os realizamos de forma qualitativa, atribuindo polaridades aos diálogos (negativa, neutra e positiva) e após realizar as rotulações de diálogos, seguindo as instruções da literatura presentes em Kim et al. (2020), determinanos o sentimento final de um diálogo como a média dos sentimentos atribuídos por especialistas (três) humanos componentes de um comitê de avaliação.\n",
    "\n",
    "Para isso, consideramos os sentimentos sob uma perspectiva quantitativa (numérica), atribuindo valor $-1$ para o sentimento negativo, $0$ para o sentimento neutro e $+1$ para o sentimento positivo, para em sequência, somar as avaliações dos especialistas e dividi-las por três, para calcular a média e usar essa média como sentimento do diálogo (como também para cada expressão contida neste diálogo). Portanto, os sentimentos computados pertencem ao intervalo $\\left[-1, 1\\right]$\n",
    "\n",
    "Ao estudar multiplos algoritmos de análise de sentimentos, presentes no *iFeel*, observamos que cada um deles produzem sentimentos em escalas distintas, o que dificulta portanto a comparação com o intervalo que estabelecemos. Felizmente, os autores do *framework* definiram critérios para apontar polaridades dos algoritmos e portanto, torna possível a comparação do desempenho dos algoritmos a partir das polaridades que produzem (negativa, neutra ou positiva) dos sentimentos.\n",
    "\n",
    "Neste sentido, queremos num primeiro momento, determinar uma estratégia de discretização dos *scores* produzidos pelos comitês para categorizá-los em polaridades e compará-los com os demais algoritmos, de forma que seja possível eleger o algoritmo de análise de sentimentos mais correlacionado aos especialistas humanos, em nível de diálogos (através da análise da força do sentimento de um diálogo --- a partir da agregação de todas suas expressões --- seguindo estratégia proposta por alguns dos autores do *iFeel* com penalização(premiação) fibonacciana dos sentimentos identificados - nossa proposta contribuição) e em nível de expressões, em comparação direta.\n",
    "\n",
    "Por isso, propomos neste momento, duas estratégias de discretização:\n",
    "\n",
    "1. Estratégia restritiva:\n",
    "$$\n",
    "    \\text{polaridade}(\\text{sentimento}) = \\left\\{ {\\text{negativo}, \\text{sentimento} \\lt {-1 \\over 3} ; \\\\ \\text{neutro}, {-1 \\over 3} \\le \\text{sentimento} \\le {1 \\over 3} ; \\\\ \\text{positivo}, \\text{sentimento} \\gt {1 \\over 3} } \\right.\n",
    "$$\n",
    "\n",
    "1. Estratégia relaxada:\n",
    "$$\n",
    "    \\text{polaridade}(\\text{sentimento}) = \\left\\{ {\\text{negativo}, \\text{sentimento} \\le {-1 \\over 3} ; \\\\ \\text{neutro}, {-1 \\over 3} \\lt \\text{sentimento} \\lt {1 \\over 3} ; \\\\ \\text{positivo}, \\text{sentimento} \\ge {1 \\over 3} } \\right.\n",
    "$$\n",
    "\n",
    "Escolheremos a estratégia cuja correlação $\\rho$-spearman entre sentimento e qualidade seja maior."
   ]
  },
  {
   "cell_type": "markdown",
   "id": "959a82c9",
   "metadata": {},
   "source": [
    "## 0.1 - Carregando diálogos do ConvAI"
   ]
  },
  {
   "cell_type": "code",
   "execution_count": 9,
   "id": "79ece8c8",
   "metadata": {},
   "outputs": [],
   "source": [
    "import pandas as pd\n",
    "atendimentos_chatbots = pd.read_json('depois.json')"
   ]
  },
  {
   "cell_type": "markdown",
   "id": "ef5725ce",
   "metadata": {},
   "source": [
    "## 0.2 - Aplicando estratégia restritiva para discretização (polarização) dos sentimentos anotados"
   ]
  },
  {
   "cell_type": "code",
   "execution_count": 44,
   "id": "615f3762",
   "metadata": {},
   "outputs": [],
   "source": [
    "df_restrito = atendimentos_chatbots.copy()\n",
    "filtro_negativo_restrito = df_restrito.sentiment < -0.32\n",
    "inicio_neutro = df_restrito.sentiment >= -0.32\n",
    "fim_neutro = df_restrito.sentiment <= 0.33\n",
    "filtro_neutro_restrito = inicio_neutro & fim_neutro\n",
    "filtro_positivo_restrito = df_restrito.sentiment > 0.33\n",
    "df_restrito.loc[filtro_negativo_restrito, 'sentiment'] = -1\n",
    "df_restrito.loc[filtro_neutro_restrito, 'sentiment'] = 0\n",
    "df_restrito.loc[filtro_positivo_restrito, 'sentiment'] = 1"
   ]
  },
  {
   "cell_type": "markdown",
   "id": "564975d2",
   "metadata": {},
   "source": [
    "### 0.2.1 Correlação spearman entre polaridade restrita e qualidade"
   ]
  },
  {
   "cell_type": "code",
   "execution_count": 45,
   "id": "b488236e",
   "metadata": {
    "scrolled": true
   },
   "outputs": [
    {
     "data": {
      "text/plain": [
       "0.18139246113459112"
      ]
     },
     "execution_count": 45,
     "metadata": {},
     "output_type": "execute_result"
    }
   ],
   "source": [
    "df_restrito.quality.corr(df_restrito.sentiment, method='spearman')"
   ]
  },
  {
   "cell_type": "markdown",
   "id": "8932ca46",
   "metadata": {},
   "source": [
    "## 0.3 - Aplicando estratégia relaxada para discretização (polarização) dos sentimentos anotados"
   ]
  },
  {
   "cell_type": "code",
   "execution_count": 48,
   "id": "dfd3dc01",
   "metadata": {},
   "outputs": [],
   "source": [
    "df_relaxado = atendimentos_chatbots.copy()\n",
    "filtro_negativo_relaxado = df_relaxado.sentiment <= -0.32\n",
    "inicio_neutro = df_relaxado.sentiment > -0.32\n",
    "fim_neutro = df_relaxado.sentiment < 0.33\n",
    "filtro_neutro_relaxado = inicio_neutro & fim_neutro\n",
    "filtro_positivo_relaxado = df_relaxado.sentiment >= 0.33\n",
    "df_relaxado.loc[filtro_negativo_relaxado, 'sentiment'] = -1\n",
    "df_relaxado.loc[filtro_neutro_relaxado, 'sentiment'] = 0\n",
    "df_relaxado.loc[filtro_positivo_relaxado, 'sentiment'] = 1"
   ]
  },
  {
   "cell_type": "markdown",
   "id": "48307f7f",
   "metadata": {},
   "source": [
    "### 0.3.1 Correlação spearman entre polaridade restrita e qualidade"
   ]
  },
  {
   "cell_type": "code",
   "execution_count": 49,
   "id": "2b2cdb5c",
   "metadata": {
    "scrolled": true
   },
   "outputs": [
    {
     "data": {
      "text/plain": [
       "0.2902334650197573"
      ]
     },
     "execution_count": 49,
     "metadata": {},
     "output_type": "execute_result"
    }
   ],
   "source": [
    "df_relaxado.quality.corr(df_relaxado.sentiment, method='spearman')"
   ]
  },
  {
   "cell_type": "markdown",
   "id": "0968ef7e",
   "metadata": {},
   "source": [
    "Ao concluir esta comparação verificamos que as estratégias não se diferem, apresentaram a mesma correlação, portanto, vamos aplicar a primeira estratégia para \"polarizar\" os sentimentos computados pelo comitê"
   ]
  },
  {
   "cell_type": "code",
   "execution_count": 53,
   "id": "3b46c8ed",
   "metadata": {},
   "outputs": [],
   "source": [
    "dialogos_sentimentos_polarizados = df_restrito"
   ]
  },
  {
   "cell_type": "markdown",
   "id": "50f249b2",
   "metadata": {},
   "source": [
    "Com os sentimentos dos diálogos polarizados, agora é hora de submetê-los a análise do ifeel, através de robôs que operam o navegador firefox para fazer upload dos diálogos e baixar o resultado da análise de sentimento deles produzida pelo *iFeel*"
   ]
  },
  {
   "cell_type": "code",
   "execution_count": null,
   "id": "f9decd10",
   "metadata": {},
   "outputs": [],
   "source": []
  }
 ],
 "metadata": {
  "kernelspec": {
   "display_name": "Python 3 (ipykernel)",
   "language": "python",
   "name": "python3"
  },
  "language_info": {
   "codemirror_mode": {
    "name": "ipython",
    "version": 3
   },
   "file_extension": ".py",
   "mimetype": "text/x-python",
   "name": "python",
   "nbconvert_exporter": "python",
   "pygments_lexer": "ipython3",
   "version": "3.10.4"
  }
 },
 "nbformat": 4,
 "nbformat_minor": 5
}
