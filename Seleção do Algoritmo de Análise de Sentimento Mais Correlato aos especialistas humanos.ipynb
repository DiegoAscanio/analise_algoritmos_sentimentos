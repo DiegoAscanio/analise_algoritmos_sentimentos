{
 "cells": [
  {
   "cell_type": "markdown",
   "id": "0fa63e66",
   "metadata": {},
   "source": [
    "# 0. Seleção de estratégia de discretização dos *scores* de sentimentos dos comitês de especialistas para comparação com demais algoritmos.\n",
    "\n",
    "Ao analisar os sentimentos dos algoritmos, os realizamos de forma qualitativa, atribuindo polaridades aos diálogos (negativa, neutra e positiva) e após realizar as rotulações de diálogos, seguindo as instruções da literatura presentes em Kim et al. (2020), determinanos o sentimento final de um diálogo como a média dos sentimentos atribuídos por especialistas (três) humanos componentes de um comitê de avaliação.\n",
    "\n",
    "Para isso, consideramos os sentimentos sob uma perspectiva quantitativa (numérica), atribuindo valor $-1$ para o sentimento negativo, $0$ para o sentimento neutro e $+1$ para o sentimento positivo, para em sequência, somar as avaliações dos especialistas e dividi-las por três, para calcular a média e usar essa média como sentimento do diálogo (como também para cada expressão contida neste diálogo). Portanto, os sentimentos computados pertencem ao intervalo $\\left[-1, 1\\right]$\n",
    "\n",
    "Ao estudar multiplos algoritmos de análise de sentimentos, presentes no *iFeel*, observamos que cada um deles produzem sentimentos em escalas distintas, o que dificulta portanto a comparação com o intervalo que estabelecemos. Felizmente, os autores do *framework* definiram critérios para apontar polaridades dos algoritmos e portanto, torna possível a comparação do desempenho dos algoritmos a partir das polaridades que produzem (negativa, neutra ou positiva) dos sentimentos.\n",
    "\n",
    "Neste sentido, queremos num primeiro momento, determinar uma estratégia de discretização dos *scores* produzidos pelos comitês para categorizá-los em polaridades e compará-los com os demais algoritmos, de forma que seja possível eleger o algoritmo de análise de sentimentos mais correlacionado aos especialistas humanos, em nível de diálogos (através da análise da força do sentimento de um diálogo --- a partir da agregação de todas suas expressões --- seguindo estratégia proposta por alguns dos autores do *iFeel* com penalização(premiação) fibonacciana dos sentimentos identificados - nossa proposta contribuição) e em nível de expressões, em comparação direta.\n",
    "\n",
    "Por isso, propomos neste momento, duas estratégias de discretização:\n",
    "\n",
    "1. Estratégia restritiva:\n",
    "$$\n",
    "    \\text{polaridade}(\\text{sentimento}) = \\left\\{ {\\text{negativo}, \\text{sentimento} \\lt {-1 \\over 3} ; \\\\ \\text{neutro}, {-1 \\over 3} \\le \\text{sentimento} \\le {1 \\over 3} ; \\\\ \\text{positivo}, \\text{sentimento} \\gt {1 \\over 3} } \\right.\n",
    "$$\n",
    "\n",
    "1. Estratégia relaxada:\n",
    "$$\n",
    "    \\text{polaridade}(\\text{sentimento}) = \\left\\{ {\\text{negativo}, \\text{sentimento} \\le {-1 \\over 3} ; \\\\ \\text{neutro}, {-1 \\over 3} \\lt \\text{sentimento} \\lt {1 \\over 3} ; \\\\ \\text{positivo}, \\text{sentimento} \\ge {1 \\over 3} } \\right.\n",
    "$$\n",
    "\n",
    "Escolheremos a estratégia cuja correlação $\\rho$-spearman entre sentimento e qualidade seja maior."
   ]
  },
  {
   "cell_type": "markdown",
   "id": "959a82c9",
   "metadata": {},
   "source": [
    "## 0.1 - Carregando diálogos do ConvAI"
   ]
  },
  {
   "cell_type": "code",
   "execution_count": 1,
   "id": "79ece8c8",
   "metadata": {},
   "outputs": [],
   "source": [
    "import pandas as pd\n",
    "atendimentos_chatbots = pd.read_json('depois.json')"
   ]
  },
  {
   "cell_type": "markdown",
   "id": "ef5725ce",
   "metadata": {},
   "source": [
    "## 0.2 - Aplicando estratégia restritiva para discretização (polarização) dos sentimentos anotados"
   ]
  },
  {
   "cell_type": "code",
   "execution_count": 2,
   "id": "615f3762",
   "metadata": {},
   "outputs": [],
   "source": [
    "df_restrito = atendimentos_chatbots.copy()\n",
    "filtro_negativo_restrito = df_restrito.sentiment < -0.32\n",
    "inicio_neutro = df_restrito.sentiment >= -0.32\n",
    "fim_neutro = df_restrito.sentiment <= 0.33\n",
    "filtro_neutro_restrito = inicio_neutro & fim_neutro\n",
    "filtro_positivo_restrito = df_restrito.sentiment > 0.33\n",
    "df_restrito.loc[filtro_negativo_restrito, 'sentiment'] = -1\n",
    "df_restrito.loc[filtro_neutro_restrito, 'sentiment'] = 0\n",
    "df_restrito.loc[filtro_positivo_restrito, 'sentiment'] = 1"
   ]
  },
  {
   "cell_type": "markdown",
   "id": "564975d2",
   "metadata": {},
   "source": [
    "### 0.2.1 Correlação spearman entre polaridade restrita e qualidade"
   ]
  },
  {
   "cell_type": "code",
   "execution_count": 3,
   "id": "b488236e",
   "metadata": {
    "scrolled": true
   },
   "outputs": [
    {
     "data": {
      "text/plain": [
       "0.18139246113459112"
      ]
     },
     "execution_count": 3,
     "metadata": {},
     "output_type": "execute_result"
    }
   ],
   "source": [
    "df_restrito.quality.corr(df_restrito.sentiment, method='spearman')"
   ]
  },
  {
   "cell_type": "markdown",
   "id": "8932ca46",
   "metadata": {},
   "source": [
    "## 0.3 - Aplicando estratégia relaxada para discretização (polarização) dos sentimentos anotados"
   ]
  },
  {
   "cell_type": "code",
   "execution_count": 4,
   "id": "dfd3dc01",
   "metadata": {},
   "outputs": [],
   "source": [
    "df_relaxado = atendimentos_chatbots.copy()\n",
    "filtro_negativo_relaxado = df_relaxado.sentiment <= -0.32\n",
    "inicio_neutro = df_relaxado.sentiment > -0.32\n",
    "fim_neutro = df_relaxado.sentiment < 0.33\n",
    "filtro_neutro_relaxado = inicio_neutro & fim_neutro\n",
    "filtro_positivo_relaxado = df_relaxado.sentiment >= 0.33\n",
    "df_relaxado.loc[filtro_negativo_relaxado, 'sentiment'] = -1\n",
    "df_relaxado.loc[filtro_neutro_relaxado, 'sentiment'] = 0\n",
    "df_relaxado.loc[filtro_positivo_relaxado, 'sentiment'] = 1"
   ]
  },
  {
   "cell_type": "markdown",
   "id": "48307f7f",
   "metadata": {},
   "source": [
    "### 0.3.1 Correlação spearman entre polaridade restrita e qualidade"
   ]
  },
  {
   "cell_type": "code",
   "execution_count": 5,
   "id": "2b2cdb5c",
   "metadata": {
    "scrolled": true
   },
   "outputs": [
    {
     "data": {
      "text/plain": [
       "0.18139246113459112"
      ]
     },
     "execution_count": 5,
     "metadata": {},
     "output_type": "execute_result"
    }
   ],
   "source": [
    "df_relaxado.quality.corr(df_relaxado.sentiment, method='spearman')"
   ]
  },
  {
   "cell_type": "markdown",
   "id": "0968ef7e",
   "metadata": {},
   "source": [
    "Ao concluir esta comparação verificamos que as estratégias não se diferem, apresentaram a mesma correlação, portanto, vamos aplicar a primeira estratégia para \"polarizar\" os sentimentos computados pelo comitê"
   ]
  },
  {
   "cell_type": "code",
   "execution_count": 6,
   "id": "3b46c8ed",
   "metadata": {},
   "outputs": [],
   "source": [
    "dialogos_sentimentos_polarizados = df_restrito"
   ]
  },
  {
   "cell_type": "markdown",
   "id": "50f249b2",
   "metadata": {},
   "source": [
    "Com os sentimentos dos diálogos polarizados, agora é hora de submetê-los a análise do ifeel, através de robôs que operam o navegador firefox para fazer upload dos diálogos e baixar o resultado da análise de sentimento deles produzida pelo *iFeel*"
   ]
  },
  {
   "cell_type": "markdown",
   "id": "bb398c88",
   "metadata": {},
   "source": [
    "# 1. Produção dos arquivos de texto relativos aos diálogos.\n",
    "\n",
    "Para cada diálogo produziremos três arquivos contendo o diálogo geral (expressões entre humanos e robôs), diálogos dos humanos (apenas expressões ditas pelos humanos) e diálogos dos robôs.\n",
    "\n",
    "## 1.1 preparativos:"
   ]
  },
  {
   "cell_type": "code",
   "execution_count": 22,
   "id": "9d452fd3",
   "metadata": {},
   "outputs": [],
   "source": [
    "import pdb\n",
    "from selenium import webdriver\n",
    "from selenium.webdriver.common.action_chains import ActionChains\n",
    "from selenium.webdriver.common.keys import Keys\n",
    "\n",
    "# funcoes auxiliares\n",
    "compilar_mensagens = lambda x: '\\n'.join(list(x))\n",
    "def gravar_arquivo (caminho, conteudo):\n",
    "    f = open(caminho, 'w')\n",
    "    f.write(conteudo)\n",
    "    f.close()\n",
    "    \n",
    "# variaveis auxiliares\n",
    "login_ifeel = 'dascaniosantos@gmail.com'\n",
    "senha_ifeel = '123456'\n",
    "\n",
    "# opcoes do webdriver\n",
    "options = webdriver.FirefoxOptions()\n",
    "'''\n",
    "    descomente a linha abaixo para executar o navegador\n",
    "    em modo headless\n",
    "'''\n",
    "#options.add_argument('--headless')\n",
    "\n",
    "# criação das pastas de diálogos\n",
    "!rm -rf dialogos\n",
    "!mkdir dialogos    "
   ]
  },
  {
   "cell_type": "markdown",
   "id": "05a5bb42",
   "metadata": {},
   "source": [
    "## 1.2 gravacao de dialogos em arquivos txt"
   ]
  },
  {
   "cell_type": "code",
   "execution_count": 21,
   "id": "fa9b6c3a",
   "metadata": {},
   "outputs": [],
   "source": [
    "# iteração sobre cada dialogo\n",
    "for index, dialogo in dialogos_sentimentos_polarizados.iterrows():\n",
    "    mensagens = pd.DataFrame(dialogo.thread)\n",
    "    if not mensagens.empty:\n",
    "        mensagens_geral = compilar_mensagens(\n",
    "            mensagens.text\n",
    "        )\n",
    "        gravar_arquivo('dialogos/dialogo_{}.txt'.format(index + 1), mensagens_geral) # para processamento imediato\n",
    "        mensagens_humano = compilar_mensagens(\n",
    "            mensagens[mensagens.userId == 'Alice'].text\n",
    "        )\n",
    "        gravar_arquivo('dialogos/dialogo_{}_mensagens_humano.txt'.format(index + 1), mensagens_humano) # para processamento posterior\n",
    "        mensagens_robo = compilar_mensagens(\n",
    "            mensagens[mensagens.userId == 'Bob'].text\n",
    "        )\n",
    "        gravar_arquivo('dialogos/dialogo_{}_mensagens_robo.txt'.format(index + 1), mensagens_robo) # para processamento posterior"
   ]
  },
  {
   "cell_type": "markdown",
   "id": "40b7a9b0",
   "metadata": {},
   "source": [
    "## 1.3 Robô de submissão de diálogos para avaliação de resultados dos algoritmos do iFeel"
   ]
  },
  {
   "cell_type": "code",
   "execution_count": 24,
   "id": "da00589b",
   "metadata": {},
   "outputs": [
    {
     "name": "stdout",
     "output_type": "stream",
     "text": [
      "ifeel_container\r\n"
     ]
    },
    {
     "ename": "OSError",
     "evalue": "Background processes not supported.",
     "output_type": "error",
     "traceback": [
      "\u001b[0;31m---------------------------------------------------------------------------\u001b[0m",
      "\u001b[0;31mOSError\u001b[0m                                   Traceback (most recent call last)",
      "Input \u001b[0;32mIn [24]\u001b[0m, in \u001b[0;36m<cell line: 3>\u001b[0;34m()\u001b[0m\n\u001b[1;32m      1\u001b[0m \u001b[38;5;66;03m# 1. iniciando o ifeel\u001b[39;00m\n\u001b[1;32m      2\u001b[0m get_ipython()\u001b[38;5;241m.\u001b[39msystem(\u001b[38;5;124m'\u001b[39m\u001b[38;5;124mdocker start ifeel_container\u001b[39m\u001b[38;5;124m'\u001b[39m)\n\u001b[0;32m----> 3\u001b[0m \u001b[43mget_ipython\u001b[49m\u001b[43m(\u001b[49m\u001b[43m)\u001b[49m\u001b[38;5;241;43m.\u001b[39;49m\u001b[43msystem\u001b[49m\u001b[43m(\u001b[49m\u001b[38;5;124;43m'\u001b[39;49m\u001b[38;5;124;43mdocker exec ifeel_container mvn spring-boot:run -Drun.arguments=--spring.profiles.active=docker -Drun.jvmArguments=\u001b[39;49m\u001b[38;5;124;43m\"\u001b[39;49m\u001b[38;5;124;43m-Xmx2g\u001b[39;49m\u001b[38;5;124;43m\"\u001b[39;49m\u001b[38;5;124;43m &\u001b[39;49m\u001b[38;5;124;43m'\u001b[39;49m\u001b[43m)\u001b[49m\n",
      "File \u001b[0;32m~/Desktop/analise_algoritmos_sentimentos/venv/lib/python3.10/site-packages/ipykernel/zmqshell.py:617\u001b[0m, in \u001b[0;36mZMQInteractiveShell.system_piped\u001b[0;34m(self, cmd)\u001b[0m\n\u001b[1;32m    602\u001b[0m \u001b[38;5;124;03m\"\"\"Call the given cmd in a subprocess, piping stdout/err\u001b[39;00m\n\u001b[1;32m    603\u001b[0m \n\u001b[1;32m    604\u001b[0m \u001b[38;5;124;03mParameters\u001b[39;00m\n\u001b[0;32m   (...)\u001b[0m\n\u001b[1;32m    609\u001b[0m \u001b[38;5;124;03m    other than simple text.\u001b[39;00m\n\u001b[1;32m    610\u001b[0m \u001b[38;5;124;03m\"\"\"\u001b[39;00m\n\u001b[1;32m    611\u001b[0m \u001b[38;5;28;01mif\u001b[39;00m cmd\u001b[38;5;241m.\u001b[39mrstrip()\u001b[38;5;241m.\u001b[39mendswith(\u001b[38;5;124m\"\u001b[39m\u001b[38;5;124m&\u001b[39m\u001b[38;5;124m\"\u001b[39m):\n\u001b[1;32m    612\u001b[0m     \u001b[38;5;66;03m# this is *far* from a rigorous test\u001b[39;00m\n\u001b[1;32m    613\u001b[0m     \u001b[38;5;66;03m# We do not support backgrounding processes because we either use\u001b[39;00m\n\u001b[1;32m    614\u001b[0m     \u001b[38;5;66;03m# pexpect or pipes to read from.  Users can always just call\u001b[39;00m\n\u001b[1;32m    615\u001b[0m     \u001b[38;5;66;03m# os.system() or use ip.system=ip.system_raw\u001b[39;00m\n\u001b[1;32m    616\u001b[0m     \u001b[38;5;66;03m# if they really want a background process.\u001b[39;00m\n\u001b[0;32m--> 617\u001b[0m     \u001b[38;5;28;01mraise\u001b[39;00m \u001b[38;5;167;01mOSError\u001b[39;00m(\u001b[38;5;124m\"\u001b[39m\u001b[38;5;124mBackground processes not supported.\u001b[39m\u001b[38;5;124m\"\u001b[39m)\n\u001b[1;32m    619\u001b[0m \u001b[38;5;66;03m# we explicitly do NOT return the subprocess status code, because\u001b[39;00m\n\u001b[1;32m    620\u001b[0m \u001b[38;5;66;03m# a non-None value would trigger :func:`sys.displayhook` calls.\u001b[39;00m\n\u001b[1;32m    621\u001b[0m \u001b[38;5;66;03m# Instead, we store the exit_code in user_ns.\u001b[39;00m\n\u001b[1;32m    622\u001b[0m \u001b[38;5;66;03m# Also, protect system call from UNC paths on Windows here too\u001b[39;00m\n\u001b[1;32m    623\u001b[0m \u001b[38;5;66;03m# as is done in InteractiveShell.system_raw\u001b[39;00m\n\u001b[1;32m    624\u001b[0m \u001b[38;5;28;01mif\u001b[39;00m sys\u001b[38;5;241m.\u001b[39mplatform \u001b[38;5;241m==\u001b[39m \u001b[38;5;124m\"\u001b[39m\u001b[38;5;124mwin32\u001b[39m\u001b[38;5;124m\"\u001b[39m:\n",
      "\u001b[0;31mOSError\u001b[0m: Background processes not supported."
     ]
    }
   ],
   "source": [
    "# 1. iniciando o ifeel\n",
    "!docker start ifeel_container\n",
    "!docker exec ifeel_container mvn spring-boot:run -Drun.arguments=--spring.profiles.active=docker -Drun.jvmArguments=\"-Xmx2g\" &"
   ]
  },
  {
   "cell_type": "code",
   "execution_count": null,
   "id": "9e9ed5f2",
   "metadata": {},
   "outputs": [],
   "source": [
    "# 2. iniciando o robô\n",
    "driver = webdriver.Firefox(executable_path = '/usr/bin/geckodriver', options = options)"
   ]
  }
 ],
 "metadata": {
  "kernelspec": {
   "display_name": "Python 3 (ipykernel)",
   "language": "python",
   "name": "python3"
  },
  "language_info": {
   "codemirror_mode": {
    "name": "ipython",
    "version": 3
   },
   "file_extension": ".py",
   "mimetype": "text/x-python",
   "name": "python",
   "nbconvert_exporter": "python",
   "pygments_lexer": "ipython3",
   "version": "3.10.4"
  }
 },
 "nbformat": 4,
 "nbformat_minor": 5
}
