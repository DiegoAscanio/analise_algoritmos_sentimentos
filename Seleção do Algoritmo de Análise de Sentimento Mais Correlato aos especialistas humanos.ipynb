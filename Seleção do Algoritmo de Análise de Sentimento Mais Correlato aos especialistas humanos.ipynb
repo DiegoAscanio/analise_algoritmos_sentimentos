{
 "cells": [
  {
   "cell_type": "markdown",
   "id": "0fa63e66",
   "metadata": {},
   "source": [
    "# 0. Seleção de estratégia de discretização dos *scores* de sentimentos dos comitês de especialistas para comparação com demais algoritmos.\n",
    "\n",
    "Ao analisar os sentimentos dos algoritmos, os realizamos de forma qualitativa, atribuindo polaridades aos diálogos (negativa, neutra e positiva) e após realizar as rotulações de diálogos, seguindo as instruções da literatura presentes em Kim et al. (2020), determinanos o sentimento final de um diálogo como a média dos sentimentos atribuídos por especialistas (três) humanos componentes de um comitê de avaliação.\n",
    "\n",
    "Para isso, consideramos os sentimentos sob uma perspectiva quantitativa (numérica), atribuindo valor $-1$ para o sentimento negativo, $0$ para o sentimento neutro e $+1$ para o sentimento positivo, para em sequência, somar as avaliações dos especialistas e dividi-las por três, para calcular a média e usar essa média como sentimento do diálogo (como também para cada expressão contida neste diálogo). Portanto, os sentimentos computados pertencem ao intervalo $\\left[-1, 1\\right]$\n",
    "\n",
    "Ao estudar multiplos algoritmos de análise de sentimentos, presentes no *iFeel*, observamos que cada um deles produzem sentimentos em escalas distintas, o que dificulta portanto a comparação com o intervalo que estabelecemos. Felizmente, os autores do *framework* definiram critérios para apontar polaridades dos algoritmos e portanto, torna possível a comparação do desempenho dos algoritmos a partir das polaridades que produzem (negativa, neutra ou positiva) dos sentimentos.\n",
    "\n",
    "Neste sentido, queremos num primeiro momento, determinar uma estratégia de discretização dos *scores* produzidos pelos comitês para categorizá-los em polaridades e compará-los com os demais algoritmos, de forma que seja possível eleger o algoritmo de análise de sentimentos mais correlacionado aos especialistas humanos, em nível de diálogos (através da análise da força do sentimento de um diálogo --- a partir da agregação de todas suas expressões --- seguindo estratégia proposta por alguns dos autores do *iFeel* com penalização(premiação) fibonacciana dos sentimentos identificados - nossa proposta contribuição) e em nível de expressões, em comparação direta.\n",
    "\n",
    "Por isso, propomos neste momento, duas estratégias de discretização:\n",
    "\n",
    "1. Estratégia restritiva:\n",
    "$$\n",
    "    \\text{polaridade}(\\text{sentimento}) = \\left\\{ {\\text{negativo}, \\text{sentimento} \\lt {-1 \\over 3} ; \\\\ \\text{neutro}, {-1 \\over 3} \\le \\text{sentimento} \\le {1 \\over 3} ; \\\\ \\text{positivo}, \\text{sentimento} \\gt {1 \\over 3} } \\right.\n",
    "$$\n",
    "\n",
    "1. Estratégia relaxada:\n",
    "$$\n",
    "    \\text{polaridade}(\\text{sentimento}) = \\left\\{ {\\text{negativo}, \\text{sentimento} \\le {-1 \\over 3} ; \\\\ \\text{neutro}, {-1 \\over 3} \\lt \\text{sentimento} \\lt {1 \\over 3} ; \\\\ \\text{positivo}, \\text{sentimento} \\ge {1 \\over 3} } \\right.\n",
    "$$\n",
    "\n",
    "Escolheremos a estratégia cuja correlação $\\rho$-spearman entre sentimento e qualidade seja maior."
   ]
  },
  {
   "cell_type": "markdown",
   "id": "959a82c9",
   "metadata": {},
   "source": [
    "## 0.1 - Carregando diálogos do ConvAI"
   ]
  },
  {
   "cell_type": "code",
   "execution_count": 1,
   "id": "79ece8c8",
   "metadata": {},
   "outputs": [],
   "source": [
    "import pandas as pd\n",
    "atendimentos_chatbots = pd.read_json('depois.json')"
   ]
  },
  {
   "cell_type": "markdown",
   "id": "ef5725ce",
   "metadata": {},
   "source": [
    "## 0.2 - Aplicando estratégia restritiva para discretização (polarização) dos sentimentos anotados"
   ]
  },
  {
   "cell_type": "code",
   "execution_count": 2,
   "id": "615f3762",
   "metadata": {},
   "outputs": [],
   "source": [
    "df_restrito = atendimentos_chatbots.copy()\n",
    "filtro_negativo_restrito = df_restrito.sentiment < -0.32\n",
    "inicio_neutro = df_restrito.sentiment >= -0.32\n",
    "fim_neutro = df_restrito.sentiment <= 0.33\n",
    "filtro_neutro_restrito = inicio_neutro & fim_neutro\n",
    "filtro_positivo_restrito = df_restrito.sentiment > 0.33\n",
    "df_restrito.loc[filtro_negativo_restrito, 'sentiment'] = -1\n",
    "df_restrito.loc[filtro_neutro_restrito, 'sentiment'] = 0\n",
    "df_restrito.loc[filtro_positivo_restrito, 'sentiment'] = 1"
   ]
  },
  {
   "cell_type": "markdown",
   "id": "564975d2",
   "metadata": {},
   "source": [
    "### 0.2.1 Correlação spearman entre polaridade restrita e qualidade"
   ]
  },
  {
   "cell_type": "code",
   "execution_count": 3,
   "id": "b488236e",
   "metadata": {
    "scrolled": true
   },
   "outputs": [
    {
     "data": {
      "text/plain": [
       "0.18139246113459112"
      ]
     },
     "execution_count": 3,
     "metadata": {},
     "output_type": "execute_result"
    }
   ],
   "source": [
    "df_restrito.quality.corr(df_restrito.sentiment, method='spearman')"
   ]
  },
  {
   "cell_type": "markdown",
   "id": "8932ca46",
   "metadata": {},
   "source": [
    "## 0.3 - Aplicando estratégia relaxada para discretização (polarização) dos sentimentos anotados"
   ]
  },
  {
   "cell_type": "code",
   "execution_count": 4,
   "id": "dfd3dc01",
   "metadata": {},
   "outputs": [],
   "source": [
    "df_relaxado = atendimentos_chatbots.copy()\n",
    "filtro_negativo_relaxado = df_relaxado.sentiment <= -0.32\n",
    "inicio_neutro = df_relaxado.sentiment > -0.32\n",
    "fim_neutro = df_relaxado.sentiment < 0.33\n",
    "filtro_neutro_relaxado = inicio_neutro & fim_neutro\n",
    "filtro_positivo_relaxado = df_relaxado.sentiment >= 0.33\n",
    "df_relaxado.loc[filtro_negativo_relaxado, 'sentiment'] = -1\n",
    "df_relaxado.loc[filtro_neutro_relaxado, 'sentiment'] = 0\n",
    "df_relaxado.loc[filtro_positivo_relaxado, 'sentiment'] = 1"
   ]
  },
  {
   "cell_type": "markdown",
   "id": "48307f7f",
   "metadata": {},
   "source": [
    "### 0.3.1 Correlação spearman entre polaridade restrita e qualidade"
   ]
  },
  {
   "cell_type": "code",
   "execution_count": 5,
   "id": "2b2cdb5c",
   "metadata": {
    "scrolled": true
   },
   "outputs": [
    {
     "data": {
      "text/plain": [
       "0.18139246113459112"
      ]
     },
     "execution_count": 5,
     "metadata": {},
     "output_type": "execute_result"
    }
   ],
   "source": [
    "df_relaxado.quality.corr(df_relaxado.sentiment, method='spearman')"
   ]
  },
  {
   "cell_type": "markdown",
   "id": "0968ef7e",
   "metadata": {},
   "source": [
    "Ao concluir esta comparação verificamos que as estratégias não se diferem, apresentaram a mesma correlação, portanto, vamos aplicar a primeira estratégia para \"polarizar\" os sentimentos computados pelo comitê"
   ]
  },
  {
   "cell_type": "code",
   "execution_count": 6,
   "id": "3b46c8ed",
   "metadata": {},
   "outputs": [],
   "source": [
    "dialogos_sentimentos_polarizados = df_restrito"
   ]
  },
  {
   "cell_type": "markdown",
   "id": "50f249b2",
   "metadata": {},
   "source": [
    "Com os sentimentos dos diálogos polarizados, agora é hora de submetê-los a análise do ifeel, através de robôs que operam o navegador firefox para fazer upload dos diálogos e baixar o resultado da análise de sentimento deles produzida pelo *iFeel*"
   ]
  },
  {
   "cell_type": "markdown",
   "id": "bb398c88",
   "metadata": {},
   "source": [
    "# 1. Produção dos arquivos de texto relativos aos diálogos.\n",
    "\n",
    "Para cada diálogo produziremos três arquivos contendo o diálogo geral (expressões entre humanos e robôs), diálogos dos humanos (apenas expressões ditas pelos humanos) e diálogos dos robôs.\n",
    "\n",
    "## 1.1 preparativos:"
   ]
  },
  {
   "cell_type": "code",
   "execution_count": 7,
   "id": "9d452fd3",
   "metadata": {},
   "outputs": [],
   "source": [
    "import pdb\n",
    "import time\n",
    "from selenium import webdriver\n",
    "from selenium.webdriver.common.by import By\n",
    "from selenium.webdriver.common.action_chains import ActionChains\n",
    "from selenium.webdriver.common.keys import Keys\n",
    "from selenium.common.exceptions import NoSuchElementException\n",
    "from selenium.common.exceptions import StaleElementReferenceException\n",
    "\n",
    "# funcoes auxiliares\n",
    "compilar_mensagens = lambda x: '\\n'.join(list(x))\n",
    "def gravar_arquivo (caminho, conteudo):\n",
    "    f = open(caminho, 'w')\n",
    "    f.write(conteudo)\n",
    "    f.close()\n",
    "    \n",
    "def carregar_arquivo(driver, arquivo):\n",
    "    arquivo_input = driver.find_element(\n",
    "        By.XPATH, '//*[@id=\"fileInput\"]'\n",
    "    )\n",
    "    arquivo_input.send_keys(arquivo)\n",
    "    time.sleep(0.5)\n",
    "    # upload\n",
    "    driver.find_element(\n",
    "        By.XPATH, '/html/body/div[1]/div/div[2]/div[4]/div[1]/div/div[2]/form/div[4]/div/button'\n",
    "    ).click()\n",
    "    time.sleep(0.5)\n",
    "    return\n",
    "    \n",
    "def esperar_analise(driver):\n",
    "    status = ''\n",
    "    while status != 'Complete':\n",
    "        try:\n",
    "            status = driver.find_element(\n",
    "                By.XPATH, '/html/body/div[1]/div/div[2]/div[4]/div[2]/div/div[2]/table/tbody/tr/td[3]'\n",
    "            ).text\n",
    "        except (NoSuchElementException, StaleElementReferenceException):\n",
    "            status = ''\n",
    "    time.sleep(1)\n",
    "    return\n",
    "\n",
    "def baixar_analise(driver, arquivo):\n",
    "    driver.find_element(\n",
    "        By.XPATH, '/html/body/div[1]/div/div[2]/div[4]/div[2]/div/div[2]/table/tbody/tr/td[1]/span/a[1]/span'\n",
    "    ).click()\n",
    "    time.sleep(0.5)\n",
    "    !mv ~/Downloads/iFeelFile.xlsx {arquivo}\n",
    "    time.sleep(0.5)\n",
    "    return\n",
    "\n",
    "def deletar_dialogo_ifeel(driver):\n",
    "    driver.find_element(\n",
    "        By.XPATH, '/html/body/div[1]/div/div[2]/div[4]/div[2]/div/div[2]/table/tbody/tr/td[7]/a'\n",
    "    ).click()\n",
    "    time.sleep(2)\n",
    "    driver.find_element(\n",
    "        By.XPATH, '/html/body/div[1]/div/div[2]/div[2]/div/div/div/a'\n",
    "    ).click()\n",
    "    time.sleep(1)\n",
    "    return\n",
    "    \n",
    "# variaveis auxiliares\n",
    "login_ifeel = 'dascaniosantos@gmail.com'\n",
    "senha_ifeel = '123456'\n",
    "diretorio_corrente = !pwd\n",
    "diretorio_corrente = diretorio_corrente[0]\n",
    "\n",
    "# opcoes do webdriver\n",
    "options = webdriver.FirefoxOptions()\n",
    "'''\n",
    "    descomente a linha abaixo para executar o navegador\n",
    "    em modo headless\n",
    "'''\n",
    "#options.add_argument('--headless')\n",
    "\n",
    "# criação das pastas de diálogos e de analises\n",
    "!rm -rf dialogos\n",
    "!mkdir dialogos \n",
    "!rm -rf analises\n",
    "!mkdir analises"
   ]
  },
  {
   "cell_type": "markdown",
   "id": "05a5bb42",
   "metadata": {},
   "source": [
    "## 1.2 gravacao de dialogos em arquivos txt"
   ]
  },
  {
   "cell_type": "code",
   "execution_count": null,
   "id": "fa9b6c3a",
   "metadata": {},
   "outputs": [],
   "source": [
    "# iteração sobre cada dialogo\n",
    "for index, dialogo in dialogos_sentimentos_polarizados.iterrows():\n",
    "    mensagens = pd.DataFrame(dialogo.thread)\n",
    "    if not mensagens.empty:\n",
    "        mensagens_geral = compilar_mensagens(\n",
    "            mensagens.text\n",
    "        )\n",
    "        gravar_arquivo('dialogos/dialogo_{}.txt'.format(index + 1), mensagens_geral) # para processamento imediato\n",
    "        mensagens_humano = compilar_mensagens(\n",
    "            mensagens[mensagens.userId == 'Alice'].text\n",
    "        )\n",
    "        gravar_arquivo('dialogos/dialogo_{}_mensagens_humano.txt'.format(index + 1), mensagens_humano) # para processamento posterior\n",
    "        mensagens_robo = compilar_mensagens(\n",
    "            mensagens[mensagens.userId == 'Bob'].text\n",
    "        )\n",
    "        gravar_arquivo('dialogos/dialogo_{}_mensagens_robo.txt'.format(index + 1), mensagens_robo) # para processamento posterior"
   ]
  },
  {
   "cell_type": "markdown",
   "id": "40b7a9b0",
   "metadata": {},
   "source": [
    "## 1.3 Robô de submissão de diálogos para avaliação de resultados dos algoritmos do iFeel\n",
    "### 1.3.1 iniciando o iFeel"
   ]
  },
  {
   "cell_type": "code",
   "execution_count": null,
   "id": "9e9ed5f2",
   "metadata": {},
   "outputs": [],
   "source": [
    "!docker stop ifeel_container\n",
    "!docker start ifeel_container\n",
    "!docker exec -dt ifeel_container mvn spring-boot:run -Drun.arguments=--spring.profiles.active=docker -Drun.jvmArguments=\"-Xmx4g\"\n",
    "time.sleep(30) # espera 30 segundos para o ifeel subir"
   ]
  },
  {
   "cell_type": "markdown",
   "id": "8d5d3641",
   "metadata": {},
   "source": [
    "### 1.3.2 iniciando o robô"
   ]
  },
  {
   "cell_type": "code",
   "execution_count": null,
   "id": "86cf04dd",
   "metadata": {},
   "outputs": [],
   "source": [
    "driver = webdriver.Firefox(executable_path = '/usr/bin/geckodriver', options = options)"
   ]
  },
  {
   "cell_type": "markdown",
   "id": "8b86d2bf",
   "metadata": {},
   "source": [
    "### 1.3.3 registrando usuário"
   ]
  },
  {
   "cell_type": "code",
   "execution_count": null,
   "id": "60a31d91",
   "metadata": {},
   "outputs": [],
   "source": [
    "driver.get('http://localhost:1210')\n",
    "# registrando o usuario ifeel\n",
    "register_btn = driver.find_element(By.XPATH, '/html/body/div[1]/div/div[2]/div[1]/div[2]/div/div[2]/div/a[2]')\n",
    "register_btn.click()\n",
    "time.sleep(2)\n",
    "# insere o nome, o email e a senha\n",
    "nome = driver.find_element(By.XPATH, '//*[@id=\"name\"]')\n",
    "nome.click()\n",
    "nome.send_keys(login_ifeel)\n",
    "email = driver.find_element(By.XPATH, '//*[@id=\"email\"]')\n",
    "email.click()\n",
    "email.send_keys(login_ifeel)\n",
    "email = driver.find_element(By.XPATH, '//*[@id=\"repeatEmail\"]')\n",
    "email.click()\n",
    "email.send_keys(login_ifeel)\n",
    "senha = driver.find_element(By.XPATH, '//*[@id=\"password\"]')\n",
    "senha.click()\n",
    "senha.send_keys(senha_ifeel)\n",
    "senha = driver.find_element(By.XPATH, '//*[@id=\"repeatPassword\"]')\n",
    "senha.click()\n",
    "senha.send_keys(senha_ifeel)\n",
    "register_btn = driver.find_element(By.XPATH, '/html/body/div[1]/div/div[2]/div[2]/div[2]/div/div/div[2]/div/form/div[6]/button[2]')\n",
    "register_btn.click()\n",
    "time.sleep(2)"
   ]
  },
  {
   "cell_type": "markdown",
   "id": "ebf84986",
   "metadata": {},
   "source": [
    "### 1.3.4. fazendo o login do usuário"
   ]
  },
  {
   "cell_type": "code",
   "execution_count": null,
   "id": "67090b69",
   "metadata": {},
   "outputs": [],
   "source": [
    "login_btn = driver.find_element(\n",
    "    By.XPATH, '/html/body/div[1]/div/div[2]/div[1]/div[2]/div/div[2]/div/a[1]'\n",
    ")\n",
    "login_btn.click()\n",
    "time.sleep(2)\n",
    "email = driver.find_element(\n",
    "    By.XPATH, '//*[@id=\"inputSuccess4\"]'\n",
    ")\n",
    "email.click()\n",
    "email.send_keys(login_ifeel)\n",
    "password = driver.find_element(\n",
    "    By.XPATH, '//*[@id=\"inputSuccess5\"]'\n",
    ")\n",
    "password.click()\n",
    "password.send_keys(senha_ifeel)\n",
    "login_btn = driver.find_element(\n",
    "    By.XPATH, '/html/body/div[1]/div/div[2]/div[2]/div[1]/div/div/div[2]/form/div[3]/button[2]'\n",
    ")\n",
    "login_btn.click()\n",
    "time.sleep(2)"
   ]
  },
  {
   "cell_type": "markdown",
   "id": "dbd7f392",
   "metadata": {},
   "source": [
    "### 1.3.5 submetendo os arquivos de texto ao ifeel para realização das análises"
   ]
  },
  {
   "cell_type": "code",
   "execution_count": null,
   "id": "2eadc8bc",
   "metadata": {},
   "outputs": [],
   "source": [
    "# 1.3.5.1 acessando pagina de analise de arquivos\n",
    "driver.get('http://localhost:1210/analyseFiles')\n",
    "time.sleep(2)\n",
    "# 1.3.5.2 iteração sobre cada dialogo\n",
    "for index, dialogo in dialogos_sentimentos_polarizados.iterrows():\n",
    "    mensagens = pd.DataFrame(dialogo.thread)\n",
    "    if not mensagens.empty:\n",
    "        #for i in ['', '_mensagens_humano', '_mensagens_robo']:\n",
    "        # consertar a posteriori - adicionar verificação de arquivo vazio por parte de humanos\n",
    "        # e robos\n",
    "        for i in ['']:\n",
    "            arquivo = diretorio_corrente + '/dialogos/dialogo_{}{}.txt'.format(index + 1, i)\n",
    "            # 1. carregar arquivo no ifeel\n",
    "            carregar_arquivo(driver, arquivo)\n",
    "            # 2. esperar o fim da analise\n",
    "            esperar_analise(driver)\n",
    "            # 3. baixar analise\n",
    "            arquivo = diretorio_corrente + '/analises/dialogo_{}{}.xlsx'.format(index + 1, i)\n",
    "            baixar_analise(driver, arquivo)\n",
    "            # 4. deletar dialogo do ifeel\n",
    "            deletar_dialogo_ifeel(driver)\n",
    "# 5. fecha o driver\n",
    "driver.close()"
   ]
  }
 ],
 "metadata": {
  "kernelspec": {
   "display_name": "Python 3 (ipykernel)",
   "language": "python",
   "name": "python3"
  },
  "language_info": {
   "codemirror_mode": {
    "name": "ipython",
    "version": 3
   },
   "file_extension": ".py",
   "mimetype": "text/x-python",
   "name": "python",
   "nbconvert_exporter": "python",
   "pygments_lexer": "ipython3",
   "version": "3.10.4"
  }
 },
 "nbformat": 4,
 "nbformat_minor": 5
}
