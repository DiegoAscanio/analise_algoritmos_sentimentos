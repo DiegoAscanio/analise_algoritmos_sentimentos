{
 "cells": [
  {
   "cell_type": "markdown",
   "id": "02ca55aa",
   "metadata": {},
   "source": [
    "# 1. Instalação do AFINN, do pandas, do numpy e do scipy"
   ]
  },
  {
   "cell_type": "code",
   "execution_count": 2,
   "id": "94ca6c3f",
   "metadata": {},
   "outputs": [
    {
     "name": "stdout",
     "output_type": "stream",
     "text": [
      "Defaulting to user installation because normal site-packages is not writeable\n",
      "Requirement already satisfied: afinn in /home/diego/.local/lib/python3.10/site-packages (0.1)\n",
      "Requirement already satisfied: pandas in /usr/lib/python3.10/site-packages (1.4.2)\n",
      "Requirement already satisfied: numpy in /usr/lib/python3.10/site-packages (1.22.3)\n",
      "Requirement already satisfied: scipy in /usr/lib/python3.10/site-packages (1.8.1)\n",
      "Requirement already satisfied: python-dateutil>=2.8.1 in /usr/lib/python3.10/site-packages (from pandas) (2.8.2)\n",
      "Requirement already satisfied: pytz>=2020.1 in /usr/lib/python3.10/site-packages (from pandas) (2022.1)\n",
      "Requirement already satisfied: six>=1.5 in /usr/lib/python3.10/site-packages (from python-dateutil>=2.8.1->pandas) (1.16.0)\n"
     ]
    }
   ],
   "source": [
    "!pip install afinn pandas numpy scipy"
   ]
  },
  {
   "cell_type": "markdown",
   "id": "0c21fb2a",
   "metadata": {},
   "source": [
    "# 2. Carregando diálogos do ConvAI"
   ]
  },
  {
   "cell_type": "code",
   "execution_count": 3,
   "id": "55a31b1e",
   "metadata": {},
   "outputs": [
    {
     "data": {
      "text/plain": [
       "'Although the Estonian and Germanic languages are of very different origins, one can identify many similar words in Estonian and German, for example. This is primarily because the Estonian language has borrowed nearly one third of its vocabulary from Germanic languages, mainly from Low Saxon (Middle Low German) during the period of German rule, and High German (including standard German). The percentage of Low Saxon and High German loanwords can be estimated at 22–25 percent, with Low Saxon making up about 15 percent.'"
      ]
     },
     "execution_count": 3,
     "metadata": {},
     "output_type": "execute_result"
    }
   ],
   "source": [
    "import pandas as pd\n",
    "\n",
    "dialogos = pd.read_json('depois.json')\n",
    "dialogos.iloc[0].context"
   ]
  },
  {
   "cell_type": "markdown",
   "id": "2dd8429c",
   "metadata": {},
   "source": [
    "# 3. Mostrando informações do dataset de diálogos"
   ]
  },
  {
   "cell_type": "code",
   "execution_count": 4,
   "id": "4090ad7c",
   "metadata": {},
   "outputs": [
    {
     "data": {
      "text/plain": [
       "Index(['context', 'dialogId', 'evaluation', 'id', 'thread', 'users',\n",
       "       'sentiment', 'qualidade_avaliada', 'sentimento_avaliado', 'quality',\n",
       "       'discrepancia_qualidade', 'discrepancia_sentimento'],\n",
       "      dtype='object')"
      ]
     },
     "execution_count": 4,
     "metadata": {},
     "output_type": "execute_result"
    }
   ],
   "source": [
    "dialogos.columns"
   ]
  },
  {
   "cell_type": "markdown",
   "id": "06de297c",
   "metadata": {},
   "source": [
    "## 3.1 Contexto do primeiro diálogo (indice 0)"
   ]
  },
  {
   "cell_type": "code",
   "execution_count": 5,
   "id": "39e4c0e1",
   "metadata": {},
   "outputs": [
    {
     "data": {
      "text/plain": [
       "'Although the Estonian and Germanic languages are of very different origins, one can identify many similar words in Estonian and German, for example. This is primarily because the Estonian language has borrowed nearly one third of its vocabulary from Germanic languages, mainly from Low Saxon (Middle Low German) during the period of German rule, and High German (including standard German). The percentage of Low Saxon and High German loanwords can be estimated at 22–25 percent, with Low Saxon making up about 15 percent.'"
      ]
     },
     "execution_count": 5,
     "metadata": {},
     "output_type": "execute_result"
    }
   ],
   "source": [
    "dialogos.context.at[0]"
   ]
  },
  {
   "cell_type": "markdown",
   "id": "1e8151fb",
   "metadata": {},
   "source": [
    "## 3.2 Mensagens do primeiro diálogo, enviadas pelo usuário humano"
   ]
  },
  {
   "cell_type": "code",
   "execution_count": 26,
   "id": "05667482",
   "metadata": {},
   "outputs": [
    {
     "data": {
      "text/plain": [
       "0    0.333333\n",
       "1   -0.333333\n",
       "2    0.000000\n",
       "3   -1.000000\n",
       "4   -1.000000\n",
       "5    0.000000\n",
       "Name: evaluation, dtype: float64"
      ]
     },
     "execution_count": 26,
     "metadata": {},
     "output_type": "execute_result"
    }
   ],
   "source": [
    "mensagens = pd.DataFrame(dialogos.thread.at[0])\n",
    "mensagens.evaluation"
   ]
  },
  {
   "cell_type": "markdown",
   "id": "faa05705",
   "metadata": {},
   "source": [
    "## 3.3 Qualidade e sentimento do primeiro diálogo, anotados pelos especialistas humanos"
   ]
  },
  {
   "cell_type": "code",
   "execution_count": 7,
   "id": "8e273ba7",
   "metadata": {},
   "outputs": [
    {
     "name": "stdout",
     "output_type": "stream",
     "text": [
      "Sentimento do primeiro diálogo: -1.0\n",
      "Qualidade do primeiro diálogo: 1.3333333333000001\n"
     ]
    }
   ],
   "source": [
    "print('Sentimento do primeiro diálogo: {}'.format(dialogos.sentiment.at[0]))\n",
    "print('Qualidade do primeiro diálogo: {}'.format(dialogos.quality.at[0]))"
   ]
  },
  {
   "cell_type": "markdown",
   "id": "25f2e44a",
   "metadata": {},
   "source": [
    "## 3.2 Sentimentos das Mensagens do primeiro diálogo enviadas pelo usuário humano computadas pelo AFINN"
   ]
  },
  {
   "cell_type": "code",
   "execution_count": 8,
   "id": "0cb91549",
   "metadata": {},
   "outputs": [
    {
     "name": "stdout",
     "output_type": "stream",
     "text": [
      "I don't know, what to add :)\n",
      "What do you mean?\n",
      "That was rude\n",
      "\n",
      "Score: -2.0\n",
      "Veredito: negativo\n"
     ]
    }
   ],
   "source": [
    "mensagens_textuais = mensagens[mensagens.userId == 'Alice'].text\n",
    "from afinn import Afinn\n",
    "afinn = Afinn()\n",
    "dialogo_humano = ''\n",
    "for mensagem in mensagens_textuais:\n",
    "    dialogo_humano += mensagem + '\\n'\n",
    "print(dialogo_humano)\n",
    "veredito = lambda x: 'neutro' if x == 0 else 'negativo' if x < 0 else 'positivo'\n",
    "score = afinn.score(dialogo_humano)\n",
    "print('Score: {}'.format(score))\n",
    "print('Veredito: {}'.format(veredito(score)))"
   ]
  },
  {
   "cell_type": "markdown",
   "id": "65635a7e",
   "metadata": {},
   "source": [
    "# 4 Papers"
   ]
  },
  {
   "cell_type": "markdown",
   "id": "7e3eb44f",
   "metadata": {},
   "source": [
    "iFeel: https://homepages.dcc.ufmg.br/~fabricio/download/icwsm2016-ifeel2.pdf\n",
    "\n",
    "ConvAI: http://convai.io/2017/data/dataset_description.pdf"
   ]
  },
  {
   "cell_type": "markdown",
   "id": "1cfca528",
   "metadata": {},
   "source": [
    "# 5 Tarefas\n",
    "\n",
    "0. ler o artigo do ConvAI\n",
    "1. ler o artigo do ifeel\n",
    "2. sugerir 6 métodos de análise de sentimentos\n",
    "3. submeter diálogos do convai aos 6 algoritmos\n",
    "4. padronizar resultados (através de veredito)\n",
    "5. escolher o algoritmo mais proximo do parecer humano"
   ]
  }
 ],
 "metadata": {
  "kernelspec": {
   "display_name": "Python 3 (ipykernel)",
   "language": "python",
   "name": "python3"
  },
  "language_info": {
   "codemirror_mode": {
    "name": "ipython",
    "version": 3
   },
   "file_extension": ".py",
   "mimetype": "text/x-python",
   "name": "python",
   "nbconvert_exporter": "python",
   "pygments_lexer": "ipython3",
   "version": "3.10.5"
  }
 },
 "nbformat": 4,
 "nbformat_minor": 5
}
