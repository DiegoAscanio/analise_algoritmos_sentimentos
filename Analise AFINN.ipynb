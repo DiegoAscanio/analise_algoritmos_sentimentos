{
 "cells": [
  {
   "cell_type": "markdown",
   "id": "02ca55aa",
   "metadata": {},
   "source": [
    "# 1. Instalação do AFINN, do pandas, do numpy e do scipy"
   ]
  },
  {
   "cell_type": "code",
   "execution_count": 1,
   "id": "94ca6c3f",
   "metadata": {},
   "outputs": [
    {
     "name": "stdout",
     "output_type": "stream",
     "text": [
      "Defaulting to user installation because normal site-packages is not writeable\n",
      "Requirement already satisfied: afinn in /home/diego/.local/lib/python3.10/site-packages (0.1)\n",
      "Requirement already satisfied: pandas in /usr/lib/python3.10/site-packages (1.4.2)\n",
      "Requirement already satisfied: numpy in /usr/lib/python3.10/site-packages (1.22.3)\n",
      "Requirement already satisfied: scipy in /usr/lib/python3.10/site-packages (1.8.1)\n",
      "Requirement already satisfied: python-dateutil>=2.8.1 in /usr/lib/python3.10/site-packages (from pandas) (2.8.2)\n",
      "Requirement already satisfied: pytz>=2020.1 in /usr/lib/python3.10/site-packages (from pandas) (2022.1)\n",
      "Requirement already satisfied: six>=1.5 in /usr/lib/python3.10/site-packages (from python-dateutil>=2.8.1->pandas) (1.16.0)\n"
     ]
    }
   ],
   "source": [
    "!pip install afinn pandas numpy scipy"
   ]
  },
  {
   "cell_type": "markdown",
   "id": "0c21fb2a",
   "metadata": {},
   "source": [
    "# 2. Carregando diálogos do ConvAI"
   ]
  },
  {
   "cell_type": "code",
   "execution_count": 4,
   "id": "55a31b1e",
   "metadata": {},
   "outputs": [
    {
     "data": {
      "text/html": [
       "<div>\n",
       "<style scoped>\n",
       "    .dataframe tbody tr th:only-of-type {\n",
       "        vertical-align: middle;\n",
       "    }\n",
       "\n",
       "    .dataframe tbody tr th {\n",
       "        vertical-align: top;\n",
       "    }\n",
       "\n",
       "    .dataframe thead th {\n",
       "        text-align: right;\n",
       "    }\n",
       "</style>\n",
       "<table border=\"1\" class=\"dataframe\">\n",
       "  <thead>\n",
       "    <tr style=\"text-align: right;\">\n",
       "      <th></th>\n",
       "      <th>context</th>\n",
       "      <th>dialogId</th>\n",
       "      <th>evaluation</th>\n",
       "      <th>id</th>\n",
       "      <th>thread</th>\n",
       "      <th>users</th>\n",
       "      <th>sentiment</th>\n",
       "      <th>qualidade_avaliada</th>\n",
       "      <th>sentimento_avaliado</th>\n",
       "      <th>quality</th>\n",
       "      <th>discrepancia_qualidade</th>\n",
       "      <th>discrepancia_sentimento</th>\n",
       "    </tr>\n",
       "  </thead>\n",
       "  <tbody>\n",
       "    <tr>\n",
       "      <th>0</th>\n",
       "      <td>Although the Estonian and Germanic languages a...</td>\n",
       "      <td>1716989984</td>\n",
       "      <td>[{'breadth': 1, 'userId': 'Bob', 'quality': '2...</td>\n",
       "      <td>1716989984</td>\n",
       "      <td>[{'evaluation': 0.33333333330000003, 'text': '...</td>\n",
       "      <td>[{'userType': 'Human', 'id': 'Alice'}, {'userT...</td>\n",
       "      <td>-1.000000</td>\n",
       "      <td>True</td>\n",
       "      <td>True</td>\n",
       "      <td>1.333333</td>\n",
       "      <td>NaN</td>\n",
       "      <td>NaN</td>\n",
       "    </tr>\n",
       "    <tr>\n",
       "      <th>1</th>\n",
       "      <td>Arnold, Constable was the first American depar...</td>\n",
       "      <td>644784359</td>\n",
       "      <td>[{'breadth': 0, 'userId': 'Alice', 'quality': ...</td>\n",
       "      <td>644784359</td>\n",
       "      <td>[{'evaluation': 0.33333333330000003, 'text': '...</td>\n",
       "      <td>[{'userType': 'Human', 'id': 'Alice'}, {'userT...</td>\n",
       "      <td>-1.000000</td>\n",
       "      <td>True</td>\n",
       "      <td>True</td>\n",
       "      <td>1.333333</td>\n",
       "      <td>NaN</td>\n",
       "      <td>NaN</td>\n",
       "    </tr>\n",
       "    <tr>\n",
       "      <th>2</th>\n",
       "      <td>Greek culture has evolved over thousands of ye...</td>\n",
       "      <td>-1341916101</td>\n",
       "      <td>[{'breadth': 0, 'userId': 'Alice', 'quality': ...</td>\n",
       "      <td>-1341916101</td>\n",
       "      <td>[{'evaluation': 0.6666666667000001, 'text': 'G...</td>\n",
       "      <td>[{'userType': 'Human', 'id': 'Alice'}, {'userT...</td>\n",
       "      <td>0.333333</td>\n",
       "      <td>True</td>\n",
       "      <td>True</td>\n",
       "      <td>3.333333</td>\n",
       "      <td>NaN</td>\n",
       "      <td>NaN</td>\n",
       "    </tr>\n",
       "    <tr>\n",
       "      <th>3</th>\n",
       "      <td>The city was originally built on a hilly penin...</td>\n",
       "      <td>-690954023</td>\n",
       "      <td>[{'breadth': 0, 'userId': 'Bob', 'quality': 0,...</td>\n",
       "      <td>-690954023</td>\n",
       "      <td>[{'evaluation': 0.33333333330000003, 'text': '...</td>\n",
       "      <td>[{'userType': 'Human', 'id': 'Bob'}, {'userTyp...</td>\n",
       "      <td>0.000000</td>\n",
       "      <td>True</td>\n",
       "      <td>True</td>\n",
       "      <td>2.000000</td>\n",
       "      <td>NaN</td>\n",
       "      <td>NaN</td>\n",
       "    </tr>\n",
       "    <tr>\n",
       "      <th>4</th>\n",
       "      <td>Despite the internal stability (known as the p...</td>\n",
       "      <td>758792953</td>\n",
       "      <td>[{'breadth': 3, 'userId': 'Alice', 'quality': ...</td>\n",
       "      <td>758792953</td>\n",
       "      <td>[{'evaluation': 0.33333333330000003, 'text': '...</td>\n",
       "      <td>[{'userType': 'Human', 'id': 'Bob'}, {'userTyp...</td>\n",
       "      <td>0.000000</td>\n",
       "      <td>True</td>\n",
       "      <td>True</td>\n",
       "      <td>1.333333</td>\n",
       "      <td>NaN</td>\n",
       "      <td>NaN</td>\n",
       "    </tr>\n",
       "    <tr>\n",
       "      <th>...</th>\n",
       "      <td>...</td>\n",
       "      <td>...</td>\n",
       "      <td>...</td>\n",
       "      <td>...</td>\n",
       "      <td>...</td>\n",
       "      <td>...</td>\n",
       "      <td>...</td>\n",
       "      <td>...</td>\n",
       "      <td>...</td>\n",
       "      <td>...</td>\n",
       "      <td>...</td>\n",
       "      <td>...</td>\n",
       "    </tr>\n",
       "    <tr>\n",
       "      <th>555</th>\n",
       "      <td>Spectre (2015) is the twenty-fourth James Bond...</td>\n",
       "      <td>230640407</td>\n",
       "      <td>[{'breadth': 2, 'userId': 'Bob', 'quality': '3...</td>\n",
       "      <td>230640407</td>\n",
       "      <td>[{'evaluation': 0.33333333330000003, 'text': '...</td>\n",
       "      <td>[{'userType': 'Human', 'id': 'Alice'}, {'userT...</td>\n",
       "      <td>0.333333</td>\n",
       "      <td>True</td>\n",
       "      <td>True</td>\n",
       "      <td>2.000000</td>\n",
       "      <td>0.0</td>\n",
       "      <td>0.0</td>\n",
       "    </tr>\n",
       "    <tr>\n",
       "      <th>556</th>\n",
       "      <td>Many annelids move by peristalsis (waves of co...</td>\n",
       "      <td>-687333987</td>\n",
       "      <td>[{'breadth': 0, 'userId': 'Bob', 'quality': 0,...</td>\n",
       "      <td>-687333987</td>\n",
       "      <td>[{'evaluation': 0.6666666667000001, 'text': 'H...</td>\n",
       "      <td>[{'userType': 'Human', 'id': 'Bob'}, {'userTyp...</td>\n",
       "      <td>-1.000000</td>\n",
       "      <td>True</td>\n",
       "      <td>True</td>\n",
       "      <td>1.333333</td>\n",
       "      <td>0.0</td>\n",
       "      <td>0.0</td>\n",
       "    </tr>\n",
       "    <tr>\n",
       "      <th>557</th>\n",
       "      <td>Neither John nor the rebel barons seriously at...</td>\n",
       "      <td>332534926</td>\n",
       "      <td>[{'breadth': 0, 'userId': 'Alice', 'quality': ...</td>\n",
       "      <td>332534926</td>\n",
       "      <td>[{'evaluation': 0.0, 'text': 'Do you know what...</td>\n",
       "      <td>[{'userType': 'Human', 'id': 'Alice'}, {'userT...</td>\n",
       "      <td>-1.000000</td>\n",
       "      <td>True</td>\n",
       "      <td>True</td>\n",
       "      <td>1.333333</td>\n",
       "      <td>0.0</td>\n",
       "      <td>0.0</td>\n",
       "    </tr>\n",
       "    <tr>\n",
       "      <th>558</th>\n",
       "      <td>Although its PlayStation predecessors had been...</td>\n",
       "      <td>-204401528</td>\n",
       "      <td>[{'breadth': 0, 'userId': 'Bob', 'quality': 0,...</td>\n",
       "      <td>-204401528</td>\n",
       "      <td>[{'evaluation': 0.0, 'text': 'wtf cross-platfo...</td>\n",
       "      <td>[{'userType': 'Human', 'id': 'Bob'}, {'userTyp...</td>\n",
       "      <td>0.000000</td>\n",
       "      <td>True</td>\n",
       "      <td>True</td>\n",
       "      <td>1.666667</td>\n",
       "      <td>0.0</td>\n",
       "      <td>0.0</td>\n",
       "    </tr>\n",
       "    <tr>\n",
       "      <th>559</th>\n",
       "      <td>From childhood, Gaddafi was aware of the invol...</td>\n",
       "      <td>1551770302</td>\n",
       "      <td>[{'breadth': 2, 'userId': 'Alice', 'quality': ...</td>\n",
       "      <td>1551770302</td>\n",
       "      <td>[{'evaluation': 0.6666666667000001, 'text': 'D...</td>\n",
       "      <td>[{'userType': 'Human', 'id': 'Bob'}, {'userTyp...</td>\n",
       "      <td>-0.666667</td>\n",
       "      <td>True</td>\n",
       "      <td>True</td>\n",
       "      <td>2.000000</td>\n",
       "      <td>0.0</td>\n",
       "      <td>0.0</td>\n",
       "    </tr>\n",
       "  </tbody>\n",
       "</table>\n",
       "<p>560 rows × 12 columns</p>\n",
       "</div>"
      ],
      "text/plain": [
       "                                               context    dialogId  \\\n",
       "0    Although the Estonian and Germanic languages a...  1716989984   \n",
       "1    Arnold, Constable was the first American depar...   644784359   \n",
       "2    Greek culture has evolved over thousands of ye... -1341916101   \n",
       "3    The city was originally built on a hilly penin...  -690954023   \n",
       "4    Despite the internal stability (known as the p...   758792953   \n",
       "..                                                 ...         ...   \n",
       "555  Spectre (2015) is the twenty-fourth James Bond...   230640407   \n",
       "556  Many annelids move by peristalsis (waves of co...  -687333987   \n",
       "557  Neither John nor the rebel barons seriously at...   332534926   \n",
       "558  Although its PlayStation predecessors had been...  -204401528   \n",
       "559  From childhood, Gaddafi was aware of the invol...  1551770302   \n",
       "\n",
       "                                            evaluation          id  \\\n",
       "0    [{'breadth': 1, 'userId': 'Bob', 'quality': '2...  1716989984   \n",
       "1    [{'breadth': 0, 'userId': 'Alice', 'quality': ...   644784359   \n",
       "2    [{'breadth': 0, 'userId': 'Alice', 'quality': ... -1341916101   \n",
       "3    [{'breadth': 0, 'userId': 'Bob', 'quality': 0,...  -690954023   \n",
       "4    [{'breadth': 3, 'userId': 'Alice', 'quality': ...   758792953   \n",
       "..                                                 ...         ...   \n",
       "555  [{'breadth': 2, 'userId': 'Bob', 'quality': '3...   230640407   \n",
       "556  [{'breadth': 0, 'userId': 'Bob', 'quality': 0,...  -687333987   \n",
       "557  [{'breadth': 0, 'userId': 'Alice', 'quality': ...   332534926   \n",
       "558  [{'breadth': 0, 'userId': 'Bob', 'quality': 0,...  -204401528   \n",
       "559  [{'breadth': 2, 'userId': 'Alice', 'quality': ...  1551770302   \n",
       "\n",
       "                                                thread  \\\n",
       "0    [{'evaluation': 0.33333333330000003, 'text': '...   \n",
       "1    [{'evaluation': 0.33333333330000003, 'text': '...   \n",
       "2    [{'evaluation': 0.6666666667000001, 'text': 'G...   \n",
       "3    [{'evaluation': 0.33333333330000003, 'text': '...   \n",
       "4    [{'evaluation': 0.33333333330000003, 'text': '...   \n",
       "..                                                 ...   \n",
       "555  [{'evaluation': 0.33333333330000003, 'text': '...   \n",
       "556  [{'evaluation': 0.6666666667000001, 'text': 'H...   \n",
       "557  [{'evaluation': 0.0, 'text': 'Do you know what...   \n",
       "558  [{'evaluation': 0.0, 'text': 'wtf cross-platfo...   \n",
       "559  [{'evaluation': 0.6666666667000001, 'text': 'D...   \n",
       "\n",
       "                                                 users  sentiment  \\\n",
       "0    [{'userType': 'Human', 'id': 'Alice'}, {'userT...  -1.000000   \n",
       "1    [{'userType': 'Human', 'id': 'Alice'}, {'userT...  -1.000000   \n",
       "2    [{'userType': 'Human', 'id': 'Alice'}, {'userT...   0.333333   \n",
       "3    [{'userType': 'Human', 'id': 'Bob'}, {'userTyp...   0.000000   \n",
       "4    [{'userType': 'Human', 'id': 'Bob'}, {'userTyp...   0.000000   \n",
       "..                                                 ...        ...   \n",
       "555  [{'userType': 'Human', 'id': 'Alice'}, {'userT...   0.333333   \n",
       "556  [{'userType': 'Human', 'id': 'Bob'}, {'userTyp...  -1.000000   \n",
       "557  [{'userType': 'Human', 'id': 'Alice'}, {'userT...  -1.000000   \n",
       "558  [{'userType': 'Human', 'id': 'Bob'}, {'userTyp...   0.000000   \n",
       "559  [{'userType': 'Human', 'id': 'Bob'}, {'userTyp...  -0.666667   \n",
       "\n",
       "     qualidade_avaliada  sentimento_avaliado   quality  \\\n",
       "0                  True                 True  1.333333   \n",
       "1                  True                 True  1.333333   \n",
       "2                  True                 True  3.333333   \n",
       "3                  True                 True  2.000000   \n",
       "4                  True                 True  1.333333   \n",
       "..                  ...                  ...       ...   \n",
       "555                True                 True  2.000000   \n",
       "556                True                 True  1.333333   \n",
       "557                True                 True  1.333333   \n",
       "558                True                 True  1.666667   \n",
       "559                True                 True  2.000000   \n",
       "\n",
       "     discrepancia_qualidade  discrepancia_sentimento  \n",
       "0                       NaN                      NaN  \n",
       "1                       NaN                      NaN  \n",
       "2                       NaN                      NaN  \n",
       "3                       NaN                      NaN  \n",
       "4                       NaN                      NaN  \n",
       "..                      ...                      ...  \n",
       "555                     0.0                      0.0  \n",
       "556                     0.0                      0.0  \n",
       "557                     0.0                      0.0  \n",
       "558                     0.0                      0.0  \n",
       "559                     0.0                      0.0  \n",
       "\n",
       "[560 rows x 12 columns]"
      ]
     },
     "execution_count": 4,
     "metadata": {},
     "output_type": "execute_result"
    }
   ],
   "source": [
    "import pandas as pd\n",
    "\n",
    "dialogos = pd.read_json('depois.json')\n",
    "dialogos"
   ]
  },
  {
   "cell_type": "markdown",
   "id": "2dd8429c",
   "metadata": {},
   "source": [
    "# 3. Mostrando informações do dataset de diálogos"
   ]
  },
  {
   "cell_type": "code",
   "execution_count": 3,
   "id": "4090ad7c",
   "metadata": {},
   "outputs": [
    {
     "data": {
      "text/plain": [
       "Index(['context', 'dialogId', 'evaluation', 'id', 'thread', 'users',\n",
       "       'sentiment', 'qualidade_avaliada', 'sentimento_avaliado', 'quality',\n",
       "       'discrepancia_qualidade', 'discrepancia_sentimento'],\n",
       "      dtype='object')"
      ]
     },
     "execution_count": 3,
     "metadata": {},
     "output_type": "execute_result"
    }
   ],
   "source": [
    "dialogos.columns"
   ]
  },
  {
   "cell_type": "markdown",
   "id": "06de297c",
   "metadata": {},
   "source": [
    "## 3.1 Contexto do primeiro diálogo (indice 0)"
   ]
  },
  {
   "cell_type": "code",
   "execution_count": 5,
   "id": "39e4c0e1",
   "metadata": {},
   "outputs": [
    {
     "data": {
      "text/plain": [
       "'Although the Estonian and Germanic languages are of very different origins, one can identify many similar words in Estonian and German, for example. This is primarily because the Estonian language has borrowed nearly one third of its vocabulary from Germanic languages, mainly from Low Saxon (Middle Low German) during the period of German rule, and High German (including standard German). The percentage of Low Saxon and High German loanwords can be estimated at 22–25 percent, with Low Saxon making up about 15 percent.'"
      ]
     },
     "execution_count": 5,
     "metadata": {},
     "output_type": "execute_result"
    }
   ],
   "source": [
    "dialogos.context.at[0]"
   ]
  },
  {
   "cell_type": "markdown",
   "id": "1e8151fb",
   "metadata": {},
   "source": [
    "## 3.2 Mensagens do primeiro diálogo, enviadas pelo usuário humano"
   ]
  },
  {
   "cell_type": "code",
   "execution_count": 7,
   "id": "05667482",
   "metadata": {},
   "outputs": [
    {
     "data": {
      "text/html": [
       "<div>\n",
       "<style scoped>\n",
       "    .dataframe tbody tr th:only-of-type {\n",
       "        vertical-align: middle;\n",
       "    }\n",
       "\n",
       "    .dataframe tbody tr th {\n",
       "        vertical-align: top;\n",
       "    }\n",
       "\n",
       "    .dataframe thead th {\n",
       "        text-align: right;\n",
       "    }\n",
       "</style>\n",
       "<table border=\"1\" class=\"dataframe\">\n",
       "  <thead>\n",
       "    <tr style=\"text-align: right;\">\n",
       "      <th></th>\n",
       "      <th>evaluation</th>\n",
       "      <th>text</th>\n",
       "      <th>userId</th>\n",
       "      <th>time</th>\n",
       "      <th>sentimento_avaliado</th>\n",
       "    </tr>\n",
       "  </thead>\n",
       "  <tbody>\n",
       "    <tr>\n",
       "      <th>0</th>\n",
       "      <td>0.333333</td>\n",
       "      <td>I don't know, what to add :)</td>\n",
       "      <td>Alice</td>\n",
       "      <td>-1</td>\n",
       "      <td>True</td>\n",
       "    </tr>\n",
       "    <tr>\n",
       "      <th>2</th>\n",
       "      <td>0.000000</td>\n",
       "      <td>What do you mean?</td>\n",
       "      <td>Alice</td>\n",
       "      <td>-1</td>\n",
       "      <td>True</td>\n",
       "    </tr>\n",
       "    <tr>\n",
       "      <th>4</th>\n",
       "      <td>-1.000000</td>\n",
       "      <td>That was rude</td>\n",
       "      <td>Alice</td>\n",
       "      <td>-1</td>\n",
       "      <td>True</td>\n",
       "    </tr>\n",
       "  </tbody>\n",
       "</table>\n",
       "</div>"
      ],
      "text/plain": [
       "   evaluation                          text userId  time  sentimento_avaliado\n",
       "0    0.333333  I don't know, what to add :)  Alice    -1                 True\n",
       "2    0.000000             What do you mean?  Alice    -1                 True\n",
       "4   -1.000000                 That was rude  Alice    -1                 True"
      ]
     },
     "execution_count": 7,
     "metadata": {},
     "output_type": "execute_result"
    }
   ],
   "source": [
    "mensagens = pd.DataFrame(dialogos.thread.at[0])\n",
    "mensagens[mensagens.userId == 'Alice']"
   ]
  },
  {
   "cell_type": "markdown",
   "id": "faa05705",
   "metadata": {},
   "source": [
    "## 3.3 Qualidade e sentimento do primeiro diálogo, anotados pelos especialistas humanos"
   ]
  },
  {
   "cell_type": "code",
   "execution_count": 8,
   "id": "8e273ba7",
   "metadata": {},
   "outputs": [
    {
     "name": "stdout",
     "output_type": "stream",
     "text": [
      "Sentimento do primeiro diálogo: -1.0\n",
      "Qualidade do primeiro diálogo: 1.3333333333000001\n"
     ]
    }
   ],
   "source": [
    "print('Sentimento do primeiro diálogo: {}'.format(dialogos.sentiment.at[0]))\n",
    "print('Qualidade do primeiro diálogo: {}'.format(dialogos.quality.at[0]))"
   ]
  },
  {
   "cell_type": "markdown",
   "id": "25f2e44a",
   "metadata": {},
   "source": [
    "## 3.2 Sentimentos das Mensagens do primeiro diálogo enviadas pelo usuário humano computadas pelo AFINN"
   ]
  },
  {
   "cell_type": "code",
   "execution_count": 14,
   "id": "0cb91549",
   "metadata": {},
   "outputs": [
    {
     "name": "stdout",
     "output_type": "stream",
     "text": [
      "I don't know, what to add :)\n",
      "What do you mean?\n",
      "That was rude\n",
      "\n",
      "Score: -2.0\n",
      "Veredito: negativo\n"
     ]
    }
   ],
   "source": [
    "mensagens_textuais = mensagens[mensagens.userId == 'Alice'].text\n",
    "from afinn import Afinn\n",
    "afinn = Afinn()\n",
    "dialogo_humano = ''\n",
    "for mensagem in mensagens_textuais:\n",
    "    dialogo_humano += mensagem + '\\n'\n",
    "print(dialogo_humano)\n",
    "veredito = lambda x: 'neutro' if x == 0 else 'negativo' if x < 0 else 'positivo'\n",
    "score = afinn.score(dialogo_humano)\n",
    "print('Score: {}'.format(score))\n",
    "print('Veredito: {}'.format(veredito(score)))"
   ]
  },
  {
   "cell_type": "markdown",
   "id": "65635a7e",
   "metadata": {},
   "source": [
    "# 4 Papers"
   ]
  },
  {
   "cell_type": "markdown",
   "id": "7e3eb44f",
   "metadata": {},
   "source": [
    "iFeel: https://homepages.dcc.ufmg.br/~fabricio/download/icwsm2016-ifeel2.pdf\n",
    "\n",
    "ConvAI: http://convai.io/2017/data/dataset_description.pdf"
   ]
  },
  {
   "cell_type": "markdown",
   "id": "1cfca528",
   "metadata": {},
   "source": [
    "# 5 Tarefas\n",
    "\n",
    "0. ler o artigo do ConvAI\n",
    "1. ler o artigo do ifeel\n",
    "2. sugerir 6 métodos de análise de sentimentos\n",
    "3. submeter diálogos do convai aos 6 algoritmos\n",
    "4. padronizar resultados (através de veredito)\n",
    "5. escolher o algoritmo mais proximo do parecer humano"
   ]
  }
 ],
 "metadata": {
  "kernelspec": {
   "display_name": "Python 3 (ipykernel)",
   "language": "python",
   "name": "python3"
  },
  "language_info": {
   "codemirror_mode": {
    "name": "ipython",
    "version": 3
   },
   "file_extension": ".py",
   "mimetype": "text/x-python",
   "name": "python",
   "nbconvert_exporter": "python",
   "pygments_lexer": "ipython3",
   "version": "3.10.4"
  }
 },
 "nbformat": 4,
 "nbformat_minor": 5
}
